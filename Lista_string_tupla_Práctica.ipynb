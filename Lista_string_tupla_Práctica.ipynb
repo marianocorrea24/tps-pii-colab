{
  "nbformat": 4,
  "nbformat_minor": 0,
  "metadata": {
    "colab": {
      "provenance": [],
      "include_colab_link": true
    },
    "kernelspec": {
      "name": "python3",
      "display_name": "Python 3"
    },
    "language_info": {
      "name": "python"
    }
  },
  "cells": [
    {
      "cell_type": "markdown",
      "metadata": {
        "id": "view-in-github",
        "colab_type": "text"
      },
      "source": [
        "<a href=\"https://colab.research.google.com/github/marianocorrea24/tps-pii-colab/blob/main/Lista_string_tupla_Pr%C3%A1ctica.ipynb\" target=\"_parent\"><img src=\"https://colab.research.google.com/assets/colab-badge.svg\" alt=\"Open In Colab\"/></a>"
      ]
    },
    {
      "cell_type": "code",
      "execution_count": 6,
      "metadata": {
        "id": "8VOD-zpMJovw"
      },
      "outputs": [],
      "source": [
        "# Lista de alumnos\n",
        "alumnos = [\n",
        "    \"Alurralde, Solange Stefania\",\n",
        "    \"Alvarado, Ludmila Del Milagro\",\n",
        "    \"Angel, Camila Juliana\",\n",
        "    \"Arenas, Lucas Gabriel\",\n",
        "    \"Caseres, Maria Antonia\",\n",
        "    \"Castillo, Paulina Milagros\",\n",
        "    \"Correa Segovia, Hugo Mariano\",\n",
        "    \"D Elia, Alvaro Tadeo\",\n",
        "    \"Flores, Victoria Agustina\",\n",
        "    \"Geronimo Soriano, Lizzie Amaya\",\n",
        "    \"GUZMAN, ANGÉLICA MORENA\",\n",
        "    \"Guzman, Jazmin Esmeralda Belen\",\n",
        "    \"Jaime, Anita Maria Belen\",\n",
        "    \"Lacour Polo, Nazarena\",\n",
        "    \"Lascano Guanca, Marcelo Fabricio\",\n",
        "    \"Lezcano, Celia Morena\",\n",
        "    \"Mamani Kynast, Nicolas Mauricio\",\n",
        "    \"Martinez, Tomas Andres\",\n",
        "    \"PORTELLA VALDIVIA, PEDRO FRANCISCO\",\n",
        "    \"Retamal Cisneros, Zacarias Josue\",\n",
        "    \"Rosales, Francisco Gabriel\",\n",
        "    \"Salem Barba, Mahia\",\n",
        "    \"Soto Camara, Agustin Ignacio\",\n",
        "    \"Villalba, Irina\",\n",
        "    \"Voltolini, Emanuel Tobias\",\n",
        "    \"Zalazar, Santino Stefano\",\n",
        "    \"ABUD LASPIUR, LOURDES MARIEL\",\n",
        "    \"Amador, Luana Micaela\",\n",
        "    \"Anaquin, Leonardo Ezequiel\",\n",
        "    \"Araoz Sanchez, Lautaro Nahuel\",\n",
        "    \"Argañaraz, Agostina Abril\",\n",
        "    \"Barrera, Matias Ezequiel\",\n",
        "    \"Barrozo Vedia, Joaquin Nicolas\",\n",
        "    \"Bettinelli, Valentino\",\n",
        "    \"Bracamonte Martinez, Salvador\",\n",
        "    \"Colque Rivero, Ariana Zoe Del Valle\",\n",
        "    \"Diaz, Dulce Maitena\",\n",
        "    \"FIGUEROA, SANTINO JOSUE\",\n",
        "    \"Flores Cardozo, Agustina Tiara\",\n",
        "    \"Gallo, Octavio Ismael\",\n",
        "    \"Galvan, Lourdes Yamila\",\n",
        "    \"Giangreco, Vitto Tomasso\",\n",
        "    \"Grancara, Martina Luna\",\n",
        "    \"Guanca, Sara Elizabeth\",\n",
        "    \"Lopez, Victoria Constanza\",\n",
        "    \"Mamani Garrido, Rosario Agostina\",\n",
        "    \"Marinaro, Martin Ezequiel\",\n",
        "    \"Merluzzi Dagum, Ignacio\",\n",
        "    \"Messina, Martina\",\n",
        "    \"RASUK, KARIM\", \"Rios, Lucia Magali\",\n",
        "    \"Sanchez Flores, Matías Agustín\",\n",
        "    \"Scarano, Renato Marcelo\",\n",
        "    \"Sierra, Lucas Mauricio\",\n",
        "    \"Tapia, Martin Gabriel\",\n",
        "    \"Vilte, Mia Antonella Alondra\",\n",
        "    \"Virgillito, Katya Milena\"\n",
        "]"
      ]
    },
    {
      "cell_type": "markdown",
      "source": [
        "## Dada la lista estudiantes:\n",
        "> - Hacer una celda para resolver cada punto.\n",
        "- El TP resuelto será revisado en tu repositorio, no es necesario que lo envíes, pero sí que lo pushees correctamente.\n",
        "- En la nota inicial se contempla:\n",
        "  - La creación del fork.\n",
        "  - El pusheo de los cambios realizados.\n",
        "  - La resolución de los ejercicios propuestos.\n"
      ],
      "metadata": {
        "id": "rd6Ug6v3J4uN"
      }
    },
    {
      "cell_type": "markdown",
      "source": [
        "1. Reemplaza todos los valores por los que obtengas del método title(). De esta manera tu lista quedara con los datos más homogéneos."
      ],
      "metadata": {
        "id": "wRLng-uURyJ3"
      }
    },
    {
      "cell_type": "code",
      "source": [
        "for i in range(len(alumnos)):\n",
        "  alumnos[i] = alumnos[i].title()\n",
        "\n",
        "\n",
        "for alumno in alumnos:\n",
        "  print(alumno)"
      ],
      "metadata": {
        "id": "8_-pTJ7UmqPY",
        "outputId": "b3139ba2-9dd4-4dfc-9f50-55d3a93eedc6",
        "colab": {
          "base_uri": "https://localhost:8080/"
        }
      },
      "execution_count": 8,
      "outputs": [
        {
          "output_type": "stream",
          "name": "stdout",
          "text": [
            "Alurralde, Solange Stefania\n",
            "Alvarado, Ludmila Del Milagro\n",
            "Angel, Camila Juliana\n",
            "Arenas, Lucas Gabriel\n",
            "Caseres, Maria Antonia\n",
            "Castillo, Paulina Milagros\n",
            "Correa Segovia, Hugo Mariano\n",
            "D Elia, Alvaro Tadeo\n",
            "Flores, Victoria Agustina\n",
            "Geronimo Soriano, Lizzie Amaya\n",
            "Guzman, Angélica Morena\n",
            "Guzman, Jazmin Esmeralda Belen\n",
            "Jaime, Anita Maria Belen\n",
            "Lacour Polo, Nazarena\n",
            "Lascano Guanca, Marcelo Fabricio\n",
            "Lezcano, Celia Morena\n",
            "Mamani Kynast, Nicolas Mauricio\n",
            "Martinez, Tomas Andres\n",
            "Portella Valdivia, Pedro Francisco\n",
            "Retamal Cisneros, Zacarias Josue\n",
            "Rosales, Francisco Gabriel\n",
            "Salem Barba, Mahia\n",
            "Soto Camara, Agustin Ignacio\n",
            "Villalba, Irina\n",
            "Voltolini, Emanuel Tobias\n",
            "Zalazar, Santino Stefano\n",
            "Abud Laspiur, Lourdes Mariel\n",
            "Amador, Luana Micaela\n",
            "Anaquin, Leonardo Ezequiel\n",
            "Araoz Sanchez, Lautaro Nahuel\n",
            "Argañaraz, Agostina Abril\n",
            "Barrera, Matias Ezequiel\n",
            "Barrozo Vedia, Joaquin Nicolas\n",
            "Bettinelli, Valentino\n",
            "Bracamonte Martinez, Salvador\n",
            "Colque Rivero, Ariana Zoe Del Valle\n",
            "Diaz, Dulce Maitena\n",
            "Figueroa, Santino Josue\n",
            "Flores Cardozo, Agustina Tiara\n",
            "Gallo, Octavio Ismael\n",
            "Galvan, Lourdes Yamila\n",
            "Giangreco, Vitto Tomasso\n",
            "Grancara, Martina Luna\n",
            "Guanca, Sara Elizabeth\n",
            "Lopez, Victoria Constanza\n",
            "Mamani Garrido, Rosario Agostina\n",
            "Marinaro, Martin Ezequiel\n",
            "Merluzzi Dagum, Ignacio\n",
            "Messina, Martina\n",
            "Rasuk, Karim\n",
            "Rios, Lucia Magali\n",
            "Sanchez Flores, Matías Agustín\n",
            "Scarano, Renato Marcelo\n",
            "Sierra, Lucas Mauricio\n",
            "Tapia, Martin Gabriel\n",
            "Vilte, Mia Antonella Alondra\n",
            "Virgillito, Katya Milena\n"
          ]
        }
      ]
    },
    {
      "cell_type": "markdown",
      "source": [
        "2. Desarrolla un script que permita ingresar un nombre y muestre cuantas veces aparece este en la lista\n"
      ],
      "metadata": {
        "id": "dYEGkYZyLy9I"
      }
    },
    {
      "cell_type": "code",
      "source": [
        "nombre = input(\"Ingrese un nombre: \").title()\n",
        "nombres = []\n",
        "for alumno in alumnos:\n",
        "  alumno_nombres = alumno.replace(',','').split()\n",
        "  nombres.extend(alumno_nombres)\n",
        "print(f\"El nombre {nombre} parece {nombres.count(nombre)} veces en la lista\")"
      ],
      "metadata": {
        "id": "2EzQjUqbmvTB",
        "outputId": "ca47ebaa-02cd-498f-dbc5-d7aa5bc1a536",
        "colab": {
          "base_uri": "https://localhost:8080/"
        }
      },
      "execution_count": 12,
      "outputs": [
        {
          "output_type": "stream",
          "name": "stdout",
          "text": [
            "Ingrese un nombre: Correa Segovia, Hugo Mariano\n",
            "El nombre Correa Segovia, Hugo Mariano parece 0 veces en la lista\n"
          ]
        }
      ]
    },
    {
      "cell_type": "markdown",
      "source": [
        "3. Desarrolla un script en python que permita ingresar un nombre y mostrar en que posición de la lista se encuentra el mismo. Realiza las combinaciones necesarias para que no se genere un error si es que el nombre no existe."
      ],
      "metadata": {
        "id": "UW2dlBsGMAte"
      }
    },
    {
      "cell_type": "code",
      "source": [
        "nombre= input(\"Ingrese un nombre: \").title()\n",
        "if nombre in alumnos:\n",
        "  posicion = alumnos.index(nombre)\n",
        "  print(f\"El alumno está en la posicion {posicion}\")\n",
        "else:\n",
        "  print(f\"EL alumno no está en la lista\")"
      ],
      "metadata": {
        "id": "WG4Eae3PnAog",
        "outputId": "a767e9ed-5455-4ffe-e006-281aba5ffeb5",
        "colab": {
          "base_uri": "https://localhost:8080/"
        }
      },
      "execution_count": 11,
      "outputs": [
        {
          "output_type": "stream",
          "name": "stdout",
          "text": [
            "Ingrese un nombre: Correa Segovia, Hugo Mariano\n",
            "El alumno está en la posicion 6\n"
          ]
        }
      ]
    },
    {
      "cell_type": "markdown",
      "source": [
        "4. Agrega un nombre al final de la lista, otro al principio y otro en la posición anterior a la de tu nombre en la lista. Tene en cuenta el formato usado para ingresar los datos: \"apellidos, nombres\""
      ],
      "metadata": {
        "id": "kZeEHUYVNwGV"
      }
    },
    {
      "cell_type": "code",
      "source": [
        "# Inserta al final\n",
        "nombres = input(\"Ingrese los nombres del estudiante: \").title()\n",
        "apellidos = input(\"Ingrese los apellidos del estudiante: \").title()\n",
        "nombre_completo = apellidos+\", \"+nombres\n",
        "alumnos.append(nombre_completo)\n",
        "\n",
        "# Inserta al principio\n",
        "nombres = input(\"Ingrese los nombres del estudiante: \").title()\n",
        "apellidos = input(\"Ingrese los apellidos del estudiante: \").title()\n",
        "nombre_completo = apellidos+\", \"+nombres\n",
        "alumnos.insert(0,nombre_completo)\n",
        "\n",
        "# Antes de mi nombre\n",
        "\n",
        "nombres = input(\"Ingrese los nombres del estudiante: \").title()\n",
        "apellidos = input(\"Ingrese los apellidos del estudiante: \").title()\n",
        "nombre_completo = apellidos+\", \"+nombres\n",
        "\n",
        "nombre= \"Correa Segovia, Hugo Mariano\"\n",
        "if nombre in alumnos:\n",
        "  posicion = alumnos.index(nombre)\n",
        "  alumnos.insert(posicion,nombre_completo)\n",
        "else:\n",
        "   print(f\"EL alumno no está en la lista\")\n",
        "\n",
        "for alumno in alumnos:\n",
        "   print(alumno)\n"
      ],
      "metadata": {
        "id": "A9u8sTsKnDEx",
        "outputId": "8985143c-1fb9-47c2-bf9c-846c36a0dba5",
        "colab": {
          "base_uri": "https://localhost:8080/"
        }
      },
      "execution_count": 15,
      "outputs": [
        {
          "output_type": "stream",
          "name": "stdout",
          "text": [
            "Ingrese los nombres del estudiante: Mia Sofia\n",
            "Ingrese los apellidos del estudiante: Salva\n",
            "Ingrese los nombres del estudiante: Joaquin\n",
            "Ingrese los apellidos del estudiante: Suarez\n",
            "Ingrese los nombres del estudiante: Jose Juan\n",
            "Ingrese los apellidos del estudiante: Gonzalez\n",
            "Suarez, Joaquin\n",
            ", \n",
            "Alurralde, Solange Stefania\n",
            "Alvarado, Ludmila Del Milagro\n",
            "Angel, Camila Juliana\n",
            "Arenas, Lucas Gabriel\n",
            "Caseres, Maria Antonia\n",
            "Castillo, Paulina Milagros\n",
            "Gonzalez, Jose Juan\n",
            "Correa Segovia, Hugo Mariano\n",
            "D Elia, Alvaro Tadeo\n",
            "Flores, Victoria Agustina\n",
            "Geronimo Soriano, Lizzie Amaya\n",
            "Guzman, Angélica Morena\n",
            "Guzman, Jazmin Esmeralda Belen\n",
            "Jaime, Anita Maria Belen\n",
            "Lacour Polo, Nazarena\n",
            "Lascano Guanca, Marcelo Fabricio\n",
            "Lezcano, Celia Morena\n",
            "Mamani Kynast, Nicolas Mauricio\n",
            "Martinez, Tomas Andres\n",
            "Portella Valdivia, Pedro Francisco\n",
            "Retamal Cisneros, Zacarias Josue\n",
            "Rosales, Francisco Gabriel\n",
            "Salem Barba, Mahia\n",
            "Soto Camara, Agustin Ignacio\n",
            "Villalba, Irina\n",
            "Voltolini, Emanuel Tobias\n",
            "Zalazar, Santino Stefano\n",
            "Abud Laspiur, Lourdes Mariel\n",
            "Amador, Luana Micaela\n",
            "Anaquin, Leonardo Ezequiel\n",
            "Araoz Sanchez, Lautaro Nahuel\n",
            "Argañaraz, Agostina Abril\n",
            "Barrera, Matias Ezequiel\n",
            "Barrozo Vedia, Joaquin Nicolas\n",
            "Bettinelli, Valentino\n",
            "Bracamonte Martinez, Salvador\n",
            "Colque Rivero, Ariana Zoe Del Valle\n",
            "Diaz, Dulce Maitena\n",
            "Figueroa, Santino Josue\n",
            "Flores Cardozo, Agustina Tiara\n",
            "Gallo, Octavio Ismael\n",
            "Galvan, Lourdes Yamila\n",
            "Giangreco, Vitto Tomasso\n",
            "Grancara, Martina Luna\n",
            "Guanca, Sara Elizabeth\n",
            "Lopez, Victoria Constanza\n",
            "Mamani Garrido, Rosario Agostina\n",
            "Marinaro, Martin Ezequiel\n",
            "Merluzzi Dagum, Ignacio\n",
            "Messina, Martina\n",
            "Rasuk, Karim\n",
            "Rios, Lucia Magali\n",
            "Sanchez Flores, Matías Agustín\n",
            "Scarano, Renato Marcelo\n",
            "Sierra, Lucas Mauricio\n",
            "Tapia, Martin Gabriel\n",
            "Vilte, Mia Antonella Alondra\n",
            "Virgillito, Katya Milena\n",
            "Correa Segovia, Hugo Mariano\n",
            "Salva, Mia Sofia\n"
          ]
        }
      ]
    },
    {
      "cell_type": "markdown",
      "source": [
        "5. Mostrá cada elemento de la lista mientras la vacias usando el metodo pop(). Para lograr esto usá la estructura while.\n",
        "\n",
        "Tene en cuenta que:\n",
        "\n",
        "\n",
        ">```python\n",
        "bool([]) = False\n",
        "```\n",
        "\n"
      ],
      "metadata": {
        "id": "b_we1Oz4OUBN"
      }
    },
    {
      "cell_type": "code",
      "source": [
        "while alumnos:\n",
        "  un_alumno = alumnos.pop()\n",
        "  print(un_alumno)"
      ],
      "metadata": {
        "id": "bjn9DhewPhWF",
        "outputId": "cd287900-dba1-45fd-944f-b644866e831e",
        "colab": {
          "base_uri": "https://localhost:8080/"
        }
      },
      "execution_count": 16,
      "outputs": [
        {
          "output_type": "stream",
          "name": "stdout",
          "text": [
            "Salva, Mia Sofia\n",
            "Correa Segovia, Hugo Mariano\n",
            "Virgillito, Katya Milena\n",
            "Vilte, Mia Antonella Alondra\n",
            "Tapia, Martin Gabriel\n",
            "Sierra, Lucas Mauricio\n",
            "Scarano, Renato Marcelo\n",
            "Sanchez Flores, Matías Agustín\n",
            "Rios, Lucia Magali\n",
            "Rasuk, Karim\n",
            "Messina, Martina\n",
            "Merluzzi Dagum, Ignacio\n",
            "Marinaro, Martin Ezequiel\n",
            "Mamani Garrido, Rosario Agostina\n",
            "Lopez, Victoria Constanza\n",
            "Guanca, Sara Elizabeth\n",
            "Grancara, Martina Luna\n",
            "Giangreco, Vitto Tomasso\n",
            "Galvan, Lourdes Yamila\n",
            "Gallo, Octavio Ismael\n",
            "Flores Cardozo, Agustina Tiara\n",
            "Figueroa, Santino Josue\n",
            "Diaz, Dulce Maitena\n",
            "Colque Rivero, Ariana Zoe Del Valle\n",
            "Bracamonte Martinez, Salvador\n",
            "Bettinelli, Valentino\n",
            "Barrozo Vedia, Joaquin Nicolas\n",
            "Barrera, Matias Ezequiel\n",
            "Argañaraz, Agostina Abril\n",
            "Araoz Sanchez, Lautaro Nahuel\n",
            "Anaquin, Leonardo Ezequiel\n",
            "Amador, Luana Micaela\n",
            "Abud Laspiur, Lourdes Mariel\n",
            "Zalazar, Santino Stefano\n",
            "Voltolini, Emanuel Tobias\n",
            "Villalba, Irina\n",
            "Soto Camara, Agustin Ignacio\n",
            "Salem Barba, Mahia\n",
            "Rosales, Francisco Gabriel\n",
            "Retamal Cisneros, Zacarias Josue\n",
            "Portella Valdivia, Pedro Francisco\n",
            "Martinez, Tomas Andres\n",
            "Mamani Kynast, Nicolas Mauricio\n",
            "Lezcano, Celia Morena\n",
            "Lascano Guanca, Marcelo Fabricio\n",
            "Lacour Polo, Nazarena\n",
            "Jaime, Anita Maria Belen\n",
            "Guzman, Jazmin Esmeralda Belen\n",
            "Guzman, Angélica Morena\n",
            "Geronimo Soriano, Lizzie Amaya\n",
            "Flores, Victoria Agustina\n",
            "D Elia, Alvaro Tadeo\n",
            "Correa Segovia, Hugo Mariano\n",
            "Gonzalez, Jose Juan\n",
            "Castillo, Paulina Milagros\n",
            "Caseres, Maria Antonia\n",
            "Arenas, Lucas Gabriel\n",
            "Angel, Camila Juliana\n",
            "Alvarado, Ludmila Del Milagro\n",
            "Alurralde, Solange Stefania\n",
            ", \n",
            "Suarez, Joaquin\n"
          ]
        }
      ]
    },
    {
      "cell_type": "code",
      "source": [
        "print(alumnos)"
      ],
      "metadata": {
        "id": "x8ZmNLqWQDwn",
        "outputId": "47a63e82-64c0-4e23-f340-3665ffb82d10",
        "colab": {
          "base_uri": "https://localhost:8080/"
        }
      },
      "execution_count": 17,
      "outputs": [
        {
          "output_type": "stream",
          "name": "stdout",
          "text": [
            "[]\n"
          ]
        }
      ]
    },
    {
      "cell_type": "markdown",
      "source": [
        "6. Crea un menú para ordenar la lista de manera ascendente o descendente. Realiza esta acción y muestra el resultado según la opción elegida por el usuario."
      ],
      "metadata": {
        "id": "xY4BuqGdQBF1"
      }
    },
    {
      "cell_type": "code",
      "source": [
        "print(\"\"\"\n",
        "      a - Ordenar de manera asendente\n",
        "      d - Odenar la lista de manera descendente\n",
        "      Ingrese una opcion:\"\"\")\n",
        "op = input().lower() #A --> a\n",
        "if op == 'a':\n",
        "  alumnos.sort()\n",
        "elif op == 'd':\n",
        "  alumnos.sort(reverse= True)\n",
        "else:\n",
        "  print(\"La opcion ingresada no es correcta\")\n",
        "\n",
        "for alumno in alumnos:\n",
        "  print(alumno)"
      ],
      "metadata": {
        "id": "NKR3ciBKSjhr",
        "outputId": "48390785-48b6-44ac-c8a0-43482b4873a3",
        "colab": {
          "base_uri": "https://localhost:8080/"
        }
      },
      "execution_count": 18,
      "outputs": [
        {
          "name": "stdout",
          "output_type": "stream",
          "text": [
            "\n",
            "      a - Ordenar de manera asendente\n",
            "      d - Odenar la lista de manera descendente\n",
            "      Ingrese una opcion:\n",
            "d\n"
          ]
        }
      ]
    },
    {
      "cell_type": "markdown",
      "source": [
        "7. - Crea, a partir de la lista estudiantes, una nueva lista tupla_estudiantes que contenga los nombres en formato de tuplas, donde el primer elemento sea el apellido y el segundo el nombre.\n",
        "  - Muestra cada tupla de la nueva lista.\n"
      ],
      "metadata": {
        "id": "7wb4sRbOSkdM"
      }
    },
    {
      "cell_type": "code",
      "source": [
        "tupla_estudiantes = []\n",
        "for alumno in alumnos:\n",
        "  apellido,nombre = alumno.split(',')\n",
        "  nombre = nombre.strip()\n",
        "  tupla_estudiantes.append((apellido,nombre))"
      ],
      "metadata": {
        "id": "f9v0mfoZS9_s"
      },
      "execution_count": 19,
      "outputs": []
    },
    {
      "cell_type": "code",
      "source": [
        "for alumno in tupla_estudiantes:\n",
        "  print(alumno)"
      ],
      "metadata": {
        "id": "OeVg8mmpQZbz"
      },
      "execution_count": 20,
      "outputs": []
    },
    {
      "cell_type": "markdown",
      "source": [
        "8. Crea un menú como el del ejercicio 6, pero ahora permite elegir si ordenar alfabéticamente por nombre o por apellido.\n",
        "> Para resolver este ejercicio, solicitar ayuda en clase o en el foro\n"
      ],
      "metadata": {
        "id": "PziNZOOBS_UQ"
      }
    },
    {
      "cell_type": "code",
      "source": [
        "def segunda_posicion(tupla):\n",
        "  return tupla[1]\n",
        "\n",
        "nombre = ('Correa Segovia', 'Hugo Mariano')\n",
        "print(segunda_posicion(nombre))"
      ],
      "metadata": {
        "id": "X7Xu-KyaTWth",
        "outputId": "34247ec3-1b1a-4058-e953-fb0e0439a874",
        "colab": {
          "base_uri": "https://localhost:8080/"
        }
      },
      "execution_count": 21,
      "outputs": [
        {
          "output_type": "stream",
          "name": "stdout",
          "text": [
            "Hugo Mariano\n"
          ]
        }
      ]
    },
    {
      "cell_type": "markdown",
      "source": [
        "9. Agrega un dato en la posición siguiente a la de tu nombre en el nuevo formato de tupla. Para esto solicita al usuario su nombre y apellido, almacena estos datos en una tupla y agrega la misma a la lista \"tupla_estudiantes\""
      ],
      "metadata": {
        "id": "mtnmvoZ9TXii"
      }
    },
    {
      "cell_type": "code",
      "source": [
        "no pude hacerlo"
      ],
      "metadata": {
        "id": "hggomb7rRygw"
      },
      "execution_count": null,
      "outputs": []
    },
    {
      "cell_type": "markdown",
      "source": [
        "10. - Pedir al usuario un nombre y mostrar todos los estudiantes que tengan ese nombre.\n",
        "  - Hacer lo mismo con un apellido.\n"
      ],
      "metadata": {
        "id": "dY4y7OVPT1FT"
      }
    },
    {
      "cell_type": "code",
      "source": [
        "nombre = input(\"Ingrese un nombre:\").title()\n",
        "for alumno in alumnos:\n",
        "  if nombre in alumno:\n",
        "    print(alumno)\n",
        "apellido = input(\" Ingrese un apellido:\").title()\n",
        "for alumno in alumnos:\n",
        "  if apellido in alumno:\n",
        "    print(alumno)"
      ],
      "metadata": {
        "id": "bVTVfjH4VMBM",
        "outputId": "1c899e01-3a8d-46b8-bb77-0403782422e0",
        "colab": {
          "base_uri": "https://localhost:8080/"
        }
      },
      "execution_count": 23,
      "outputs": [
        {
          "name": "stdout",
          "output_type": "stream",
          "text": [
            "Ingrese un nombre:Hernan\n",
            " Ingrese un apellido:Lopez\n"
          ]
        }
      ]
    },
    {
      "cell_type": "markdown",
      "source": [
        "11. Pedir un nombre al usuario y eliminar todos los registros donde se encuentre un estudiante con el nombre ingresado.\n"
      ],
      "metadata": {
        "id": "7zdJLrqXVM30"
      }
    },
    {
      "cell_type": "code",
      "source": [
        "nombres = [\n",
        "    ('Argañaraz', 'Agostina Abril'),\n",
        "    ('Soto Camara', 'Agustin Ignacio'),\n",
        "    ('Flores Cardozo', 'Agustina Tiara'),\n",
        "    ('D Elia', 'Alvaro Tadeo'),\n",
        "    ('Guzman', 'Angélica Morena'),\n",
        "    ('Jaime', 'Anita Maria Belen'),\n",
        "    ('Colque Rivero', 'Ariana Zoe Del Valle'),\n",
        "    ('Angel', 'Camila Juliana'),\n",
        "    ('Lezcano', 'Celia Morena'),\n",
        "    ('Diaz', 'Dulce Maitena'),\n",
        "    ('Voltolini', 'Emanuel Tobias'),\n",
        "    ('Rosales', 'Francisco Gabriel'),\n",
        "    ('Correa Segovia', 'Hugo Mariano'),\n",
        "    ('Merluzzi Dagum', 'Ignacio'),\n",
        "    ('Villalba', 'Irina'),\n",
        "    ('Guzman', 'Jazmin Esmeralda Belen'),\n",
        "    ('Barrozo Vedia', 'Joaquin Nicolas'),\n",
        "    ('Rasuk', 'Karim'),\n",
        "    ('Virgillito', 'Katya Milena'),\n",
        "    ('Araoz Sanchez', 'Lautaro Nahuel'),\n",
        "    ('Anaquin', 'Leonardo Ezequiel'),\n",
        "    ('Geronimo Soriano', 'Lizzie Amaya'),\n",
        "    ('Abud Laspiur', 'Lourdes Mariel'),\n",
        "    ('Galvan', 'Lourdes Yamila'),\n",
        "    ('Amador', 'Luana Micaela'),\n",
        "    ('Arenas', 'Lucas Gabriel'),\n",
        "    ('Sierra', 'Lucas Mauricio'),\n",
        "    ('Rios', 'Lucia Magali'),\n",
        "    ('Alvarado', 'Ludmila Del Milagro'),\n",
        "    ('Salem Barba', 'Mahia'),\n",
        "    ('Lascano Guanca', 'Marcelo Fabricio'),\n",
        "    ('Caseres', 'Maria Antonia'),\n",
        "    ('Marinaro', 'Martin Ezequiel'),\n",
        "    ('Tapia', 'Martin Gabriel'),\n",
        "    ('Messina', 'Martina'),\n",
        "    ('Grancara', 'Martina Luna'),\n",
        "    ('Barrera', 'Matias Ezequiel'),\n",
        "    ('Sanchez Flores', 'Matías Agustín'),\n",
        "    ('Vilte', 'Mia Antonella Alondra'),\n",
        "    ('Lacour Polo', 'Nazarena'),\n",
        "    ('Mamani Kynast', 'Nicolas Mauricio'),\n",
        "    ('Gallo', 'Octavio Ismael'),\n",
        "    ('Castillo', 'Paulina Milagros'),\n",
        "    ('Portella Valdivia', 'Pedro Francisco'),\n",
        "    ('Scarano', 'Renato Marcelo'),\n",
        "    ('Mamani Garrido', 'Rosario Agostina'),\n",
        "    ('Bracamonte Martinez', 'Salvador'),\n",
        "    ('Figueroa', 'Santino Josue'),\n",
        "    ('Zalazar', 'Santino Stefano'),\n",
        "    ('Guanca', 'Sara Elizabeth'),\n",
        "    ('Alurralde', 'Solange Stefania'),\n",
        "    ('Martinez', 'Tomas Andres'),\n",
        "    ('Bettinelli', 'Valentino'),\n",
        "    ('Flores', 'Victoria Agustina'),\n",
        "    ('Lopez', 'Victoria Constanza'),\n",
        "    ('Giangreco', 'Vitto Tomasso'),\n",
        "    ('Retamal Cisneros', 'Zacarias Josue')\n",
        "]\n",
        "\n",
        "nombre_eliminar = input(\"Ingrese el nombre del estudiante que desea eliminar: \")\n",
        "\n",
        "nombres_filtrados = [registro for registro in nombres if nombre_eliminar not in registro[1]]\n",
        "\n",
        "for apellido, nombre in nombres_filtrados:\n",
        "    print(f\"('{apellido}', '{nombre}')\")"
      ],
      "metadata": {
        "id": "3_rnimG_VQr6"
      },
      "execution_count": null,
      "outputs": []
    },
    {
      "cell_type": "markdown",
      "source": [
        "12. Pedir dos apellidos al usuario, y reemplazar el primer apellido por el segundo en todos los registros donde se encuentre."
      ],
      "metadata": {
        "id": "DGU_hs0BVRfa"
      }
    },
    {
      "cell_type": "code",
      "source": [
        "nombres = [\n",
        "    ('Argañaraz', 'Agostina Abril'),\n",
        "    ('Soto Camara', 'Agustin Ignacio'),\n",
        "    ('Flores Cardozo', 'Agustina Tiara'),\n",
        "    ('D Elia', 'Alvaro Tadeo'),\n",
        "    ('Guzman', 'Angélica Morena'),\n",
        "    ('Jaime', 'Anita Maria Belen'),\n",
        "    ('Colque Rivero', 'Ariana Zoe Del Valle'),\n",
        "    ('Angel', 'Camila Juliana'),\n",
        "    ('Lezcano', 'Celia Morena'),\n",
        "    ('Diaz', 'Dulce Maitena'),\n",
        "    ('Voltolini', 'Emanuel Tobias'),\n",
        "    ('Rosales', 'Francisco Gabriel'),\n",
        "    ('Correa Segovia', 'Hugo Mariano'),\n",
        "    ('Merluzzi Dagum', 'Ignacio'),\n",
        "    ('Villalba', 'Irina'),\n",
        "    ('Guzman', 'Jazmin Esmeralda Belen'),\n",
        "    ('Barrozo Vedia', 'Joaquin Nicolas'),\n",
        "    ('Rasuk', 'Karim'),\n",
        "    ('Virgillito', 'Katya Milena'),\n",
        "    ('Araoz Sanchez', 'Lautaro Nahuel'),\n",
        "    ('Anaquin', 'Leonardo Ezequiel'),\n",
        "    ('Geronimo Soriano', 'Lizzie Amaya'),\n",
        "    ('Abud Laspiur', 'Lourdes Mariel'),\n",
        "    ('Galvan', 'Lourdes Yamila'),\n",
        "    ('Amador', 'Luana Micaela'),\n",
        "    ('Arenas', 'Lucas Gabriel'),\n",
        "    ('Sierra', 'Lucas Mauricio'),\n",
        "    ('Rios', 'Lucia Magali'),\n",
        "    ('Alvarado', 'Ludmila Del Milagro'),\n",
        "    ('Salem Barba', 'Mahia'),\n",
        "    ('Lascano Guanca', 'Marcelo Fabricio'),\n",
        "    ('Caseres', 'Maria Antonia'),\n",
        "    ('Marinaro', 'Martin Ezequiel'),\n",
        "    ('Tapia', 'Martin Gabriel'),\n",
        "    ('Messina', 'Martina'),\n",
        "    ('Grancara', 'Martina Luna'),\n",
        "    ('Barrera', 'Matias Ezequiel'),\n",
        "    ('Sanchez Flores', 'Matías Agustín'),\n",
        "    ('Vilte', 'Mia Antonella Alondra'),\n",
        "    ('Lacour Polo', 'Nazarena'),\n",
        "    ('Mamani Kynast', 'Nicolas Mauricio'),\n",
        "    ('Gallo', 'Octavio Ismael'),\n",
        "    ('Castillo', 'Paulina Milagros'),\n",
        "    ('Portella Valdivia', 'Pedro Francisco'),\n",
        "    ('Scarano', 'Renato Marcelo'),\n",
        "    ('Mamani Garrido', 'Rosario Agostina'),\n",
        "    ('Bracamonte Martinez', 'Salvador'),\n",
        "    ('Figueroa', 'Santino Josue'),\n",
        "    ('Zalazar', 'Santino Stefano'),\n",
        "    ('Guanca', 'Sara Elizabeth'),\n",
        "    ('Alurralde', 'Solange Stefania'),\n",
        "    ('Martinez', 'Tomas Andres'),\n",
        "    ('Bettinelli', 'Valentino'),\n",
        "    ('Flores', 'Victoria Agustina'),\n",
        "    ('Lopez', 'Victoria Constanza'),\n",
        "    ('Giangreco', 'Vitto Tomasso'),\n",
        "    ('Retamal Cisneros', 'Zacarias Josue')\n",
        "]\n",
        "\n",
        "\n",
        "apellido_a_reemplazar = input(\"Ingrese el apellido que desea reemplazar: \")\n",
        "nuevo_apellido = input(\"Ingrese el nuevo apellido: \")\n",
        "\n",
        "\n",
        "nombres_modificados = [(nuevo_apellido, nombre) if apellido == apellido_a_reemplazar else (apellido, nombre) for apellido, nombre in nombres]\n",
        "\n",
        "\n",
        "for apellido, nombre in nombres_modificados:\n",
        "    print(f\"('{apellido}', '{nombre}')\")"
      ],
      "metadata": {
        "id": "ghxBxrzTV6aL"
      },
      "execution_count": null,
      "outputs": []
    }
  ]
}